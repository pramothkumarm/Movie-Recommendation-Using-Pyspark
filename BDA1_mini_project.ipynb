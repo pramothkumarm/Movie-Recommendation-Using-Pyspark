{
  "cells": [
    {
      "cell_type": "code",
      "execution_count": null,
      "metadata": {
        "colab": {
          "base_uri": "https://localhost:8080/"
        },
        "id": "iEUHMjdSh-jv",
        "outputId": "092aeeba-9d09-4cb0-f060-c4c972307d5d"
      },
      "outputs": [
        {
          "output_type": "stream",
          "name": "stdout",
          "text": [
            "Collecting pyspark\n",
            "  Downloading pyspark-3.5.0.tar.gz (316.9 MB)\n",
            "\u001b[2K     \u001b[90m━━━━━━━━━━━━━━━━━━━━━━━━━━━━━━━━━━━━━━━━\u001b[0m \u001b[32m316.9/316.9 MB\u001b[0m \u001b[31m2.4 MB/s\u001b[0m eta \u001b[36m0:00:00\u001b[0m\n",
            "\u001b[?25h  Preparing metadata (setup.py) ... \u001b[?25l\u001b[?25hdone\n",
            "Requirement already satisfied: py4j==0.10.9.7 in /usr/local/lib/python3.10/dist-packages (from pyspark) (0.10.9.7)\n",
            "Building wheels for collected packages: pyspark\n",
            "  Building wheel for pyspark (setup.py) ... \u001b[?25l\u001b[?25hdone\n",
            "  Created wheel for pyspark: filename=pyspark-3.5.0-py2.py3-none-any.whl size=317425344 sha256=ca080cff5ef90e0740bd34b477cdc0dd8b0252f152119af2d1f9972b319809cb\n",
            "  Stored in directory: /root/.cache/pip/wheels/41/4e/10/c2cf2467f71c678cfc8a6b9ac9241e5e44a01940da8fbb17fc\n",
            "Successfully built pyspark\n",
            "Installing collected packages: pyspark\n",
            "Successfully installed pyspark-3.5.0\n"
          ]
        }
      ],
      "source": [
        "!pip install pyspark"
      ]
    },
    {
      "cell_type": "code",
      "execution_count": null,
      "metadata": {
        "id": "u9hfu6oJiL9I"
      },
      "outputs": [],
      "source": [
        "import numpy as np\n",
        "import pandas as pd\n",
        "import matplotlib.pyplot as plt\n",
        "import seaborn as sns\n",
        "from pyspark.sql import SparkSession"
      ]
    },
    {
      "cell_type": "code",
      "execution_count": null,
      "metadata": {
        "id": "enaApXQbidyH"
      },
      "outputs": [],
      "source": [
        "spark = SparkSession \\\n",
        "    .builder \\\n",
        "    .appName(\"moive analysis\") \\\n",
        "    .config(\"spark.some.config.option\", \"some-value\") \\\n",
        "    .getOrCreate()"
      ]
    },
    {
      "cell_type": "code",
      "execution_count": null,
      "metadata": {
        "colab": {
          "base_uri": "https://localhost:8080/"
        },
        "id": "G3tm39LQiePG",
        "outputId": "bce8d859-ea17-47dc-d3df-1d80ec945b14"
      },
      "outputs": [
        {
          "output_type": "stream",
          "name": "stdout",
          "text": [
            "+------+-------+------+----------+\n",
            "|userId|movieId|rating| timestamp|\n",
            "+------+-------+------+----------+\n",
            "|     1|    296|   5.0|1147880044|\n",
            "|     1|    306|   3.5|1147868817|\n",
            "|     1|    307|   5.0|1147868828|\n",
            "|     1|    665|   5.0|1147878820|\n",
            "|     1|    899|   3.5|1147868510|\n",
            "|     1|   1088|   4.0|1147868495|\n",
            "|     1|   1175|   3.5|1147868826|\n",
            "|     1|   1217|   3.5|1147878326|\n",
            "|     1|   1237|   5.0|1147868839|\n",
            "|     1|   1250|   4.0|1147868414|\n",
            "|     1|   1260|   3.5|1147877857|\n",
            "|     1|   1653|   4.0|1147868097|\n",
            "|     1|   2011|   2.5|1147868079|\n",
            "|     1|   2012|   2.5|1147868068|\n",
            "|     1|   2068|   2.5|1147869044|\n",
            "|     1|   2161|   3.5|1147868609|\n",
            "|     1|   2351|   4.5|1147877957|\n",
            "|     1|   2573|   4.0|1147878923|\n",
            "|     1|   2632|   5.0|1147878248|\n",
            "|     1|   2692|   5.0|1147869100|\n",
            "+------+-------+------+----------+\n",
            "only showing top 20 rows\n",
            "\n"
          ]
        }
      ],
      "source": [
        "data = spark.read.csv(\"/content/ratings.csv\", header=True, inferSchema=True)\n",
        "data.show()"
      ]
    },
    {
      "cell_type": "code",
      "execution_count": null,
      "metadata": {
        "colab": {
          "base_uri": "https://localhost:8080/"
        },
        "id": "U7o7yfLujbA3",
        "outputId": "b4b15471-ba04-4bce-fb21-f6be1538d5f7"
      },
      "outputs": [
        {
          "output_type": "stream",
          "name": "stdout",
          "text": [
            "Number of rows: 372362\n",
            "Number of columns: 4\n"
          ]
        }
      ],
      "source": [
        "num_rows = data.count()\n",
        "\n",
        "# Count the number of columns\n",
        "num_columns = len(data.columns)\n",
        "\n",
        "# Print the shape\n",
        "print(\"Number of rows:\", num_rows)\n",
        "print(\"Number of columns:\", num_columns)"
      ]
    },
    {
      "cell_type": "code",
      "execution_count": null,
      "metadata": {
        "id": "7-U9mdIMjbXS",
        "colab": {
          "base_uri": "https://localhost:8080/"
        },
        "outputId": "ee174d03-2a1e-4c4d-e5d5-9dfcf5129ede"
      },
      "outputs": [
        {
          "output_type": "stream",
          "name": "stdout",
          "text": [
            "+-------+--------------------+--------------------+\n",
            "|movieId|               title|              genres|\n",
            "+-------+--------------------+--------------------+\n",
            "|      1|    Toy Story (1995)|Adventure|Animati...|\n",
            "|      2|      Jumanji (1995)|Adventure|Childre...|\n",
            "|      3|Grumpier Old Men ...|      Comedy|Romance|\n",
            "|      4|Waiting to Exhale...|Comedy|Drama|Romance|\n",
            "|      5|Father of the Bri...|              Comedy|\n",
            "|      6|         Heat (1995)|Action|Crime|Thri...|\n",
            "|      7|      Sabrina (1995)|      Comedy|Romance|\n",
            "|      8| Tom and Huck (1995)|  Adventure|Children|\n",
            "|      9| Sudden Death (1995)|              Action|\n",
            "|     10|    GoldenEye (1995)|Action|Adventure|...|\n",
            "|     11|American Presiden...|Comedy|Drama|Romance|\n",
            "|     12|Dracula: Dead and...|       Comedy|Horror|\n",
            "|     13|        Balto (1995)|Adventure|Animati...|\n",
            "|     14|        Nixon (1995)|               Drama|\n",
            "|     15|Cutthroat Island ...|Action|Adventure|...|\n",
            "|     16|       Casino (1995)|         Crime|Drama|\n",
            "|     17|Sense and Sensibi...|       Drama|Romance|\n",
            "|     18|   Four Rooms (1995)|              Comedy|\n",
            "|     19|Ace Ventura: When...|              Comedy|\n",
            "|     20|  Money Train (1995)|Action|Comedy|Cri...|\n",
            "+-------+--------------------+--------------------+\n",
            "only showing top 20 rows\n",
            "\n"
          ]
        }
      ],
      "source": [
        "# Read data from CSV file\n",
        "movie_names_data = spark.read.csv(\"/content/movies.csv\", header=True, inferSchema=True)\n",
        "movie_names_data.show()"
      ]
    },
    {
      "cell_type": "code",
      "execution_count": null,
      "metadata": {
        "id": "4JqgkwWmrVQs",
        "colab": {
          "base_uri": "https://localhost:8080/"
        },
        "outputId": "f1ef9ac8-3bd5-44f9-ed0c-8b77c53c9823"
      },
      "outputs": [
        {
          "output_type": "stream",
          "name": "stdout",
          "text": [
            "+-------+------------------------------+-------------------------------------------+\n",
            "|movieId|title                         |genres                                     |\n",
            "+-------+------------------------------+-------------------------------------------+\n",
            "|1      |Toy Story                     |Adventure|Animation|Children|Comedy|Fantasy|\n",
            "|2      |Jumanji                       |Adventure|Children|Fantasy                 |\n",
            "|3      |Grumpier Old Men              |Comedy|Romance                             |\n",
            "|4      |Waiting to Exhale             |Comedy|Drama|Romance                       |\n",
            "|5      |Father of the Bride Part II   |Comedy                                     |\n",
            "|6      |Heat                          |Action|Crime|Thriller                      |\n",
            "|7      |Sabrina                       |Comedy|Romance                             |\n",
            "|8      |Tom and Huck                  |Adventure|Children                         |\n",
            "|9      |Sudden Death                  |Action                                     |\n",
            "|10     |GoldenEye                     |Action|Adventure|Thriller                  |\n",
            "|11     |American President, The       |Comedy|Drama|Romance                       |\n",
            "|12     |Dracula: Dead and Loving It   |Comedy|Horror                              |\n",
            "|13     |Balto                         |Adventure|Animation|Children               |\n",
            "|14     |Nixon                         |Drama                                      |\n",
            "|15     |Cutthroat Island              |Action|Adventure|Romance                   |\n",
            "|16     |Casino                        |Crime|Drama                                |\n",
            "|17     |Sense and Sensibility         |Drama|Romance                              |\n",
            "|18     |Four Rooms                    |Comedy                                     |\n",
            "|19     |Ace Ventura: When Nature Calls|Comedy                                     |\n",
            "|20     |Money Train                   |Action|Comedy|Crime|Drama|Thriller         |\n",
            "+-------+------------------------------+-------------------------------------------+\n",
            "only showing top 20 rows\n",
            "\n"
          ]
        }
      ],
      "source": [
        "from pyspark.sql.functions import col, split, trim\n",
        "\n",
        "# Split the 'title' column by '(' to separate title and year\n",
        "split_col = split(movie_names_data['title'], '\\\\(')\n",
        "movie_names_data = movie_names_data.withColumn(\"title\", split_col.getItem(0))\n",
        "\n",
        "# Remove leading and trailing spaces\n",
        "movie_names_data = movie_names_data.withColumn(\"title\", trim(movie_names_data['title']))\n",
        "\n",
        "# Show the updated DataFrame\n",
        "movie_names_data.show(truncate=False)"
      ]
    },
    {
      "cell_type": "code",
      "execution_count": null,
      "metadata": {
        "id": "2jF97E_9jjLD",
        "colab": {
          "base_uri": "https://localhost:8080/"
        },
        "outputId": "06c3337e-0cc4-47aa-f581-f9ae201be97f"
      },
      "outputs": [
        {
          "output_type": "stream",
          "name": "stdout",
          "text": [
            "root\n",
            " |-- userId: integer (nullable = true)\n",
            " |-- movieId: integer (nullable = true)\n",
            " |-- rating: double (nullable = true)\n",
            " |-- timestamp: integer (nullable = true)\n",
            "\n"
          ]
        }
      ],
      "source": [
        "# The printSchema()method in PySpark is used to display the schema of a DataFrame.\n",
        "#The schema includes the data types of each column and provides valuable information about the structure of the data\n",
        "data.printSchema()"
      ]
    },
    {
      "cell_type": "code",
      "execution_count": null,
      "metadata": {
        "id": "jltlpd_pkB9V",
        "colab": {
          "base_uri": "https://localhost:8080/"
        },
        "outputId": "e074b3c9-62db-4e7b-8c5e-fb7901ef07ca"
      },
      "outputs": [
        {
          "output_type": "stream",
          "name": "stdout",
          "text": [
            "+-------+------------------+------------------+------------------+--------------------+\n",
            "|summary|            userId|           movieId|            rating|           timestamp|\n",
            "+-------+------------------+------------------+------------------+--------------------+\n",
            "|  count|            372362|            372362|            372362|              372362|\n",
            "|   mean|1314.7315622969047|20928.468514510074|3.5561026635370956| 1.208393017946203E9|\n",
            "| stddev|  729.069041526375| 38735.09961594754|1.0494675280340557|2.3262484856479302E8|\n",
            "|    min|                 1|                 1|               0.5|           789652009|\n",
            "|    max|              2559|            208793|               5.0|          1574253766|\n",
            "+-------+------------------+------------------+------------------+--------------------+\n",
            "\n"
          ]
        }
      ],
      "source": [
        "data.describe().show()"
      ]
    },
    {
      "cell_type": "code",
      "execution_count": null,
      "metadata": {
        "id": "tGhpSUbeuVnH",
        "colab": {
          "base_uri": "https://localhost:8080/"
        },
        "outputId": "754dba21-5715-46e0-ec40-132d8e3f7e0f"
      },
      "outputs": [
        {
          "output_type": "execute_result",
          "data": {
            "text/plain": [
              "DataFrame[userId: int, movieId: int, rating: double, timestamp: int]"
            ]
          },
          "metadata": {},
          "execution_count": 10
        }
      ],
      "source": [
        "data.dropna()\n"
      ]
    },
    {
      "cell_type": "code",
      "execution_count": null,
      "metadata": {
        "id": "04V1Q1Zsj4hv",
        "colab": {
          "base_uri": "https://localhost:8080/"
        },
        "outputId": "027e68d3-a91a-4f5a-b259-f2e9f29c199b"
      },
      "outputs": [
        {
          "output_type": "stream",
          "name": "stdout",
          "text": [
            "+------+-------+------+---------+\n",
            "|userId|movieId|rating|timestamp|\n",
            "+------+-------+------+---------+\n",
            "| false|  false| false|    false|\n",
            "| false|  false| false|    false|\n",
            "| false|  false| false|    false|\n",
            "| false|  false| false|    false|\n",
            "| false|  false| false|    false|\n",
            "| false|  false| false|    false|\n",
            "| false|  false| false|    false|\n",
            "| false|  false| false|    false|\n",
            "| false|  false| false|    false|\n",
            "| false|  false| false|    false|\n",
            "| false|  false| false|    false|\n",
            "| false|  false| false|    false|\n",
            "| false|  false| false|    false|\n",
            "| false|  false| false|    false|\n",
            "| false|  false| false|    false|\n",
            "| false|  false| false|    false|\n",
            "| false|  false| false|    false|\n",
            "| false|  false| false|    false|\n",
            "| false|  false| false|    false|\n",
            "| false|  false| false|    false|\n",
            "+------+-------+------+---------+\n",
            "only showing top 20 rows\n",
            "\n"
          ]
        }
      ],
      "source": [
        "null_check = data.select([col(column).isNull().alias(column) for column in data.columns]).show()"
      ]
    },
    {
      "cell_type": "code",
      "execution_count": null,
      "metadata": {
        "id": "2kBRi859kJze",
        "colab": {
          "base_uri": "https://localhost:8080/"
        },
        "outputId": "966765d0-0b6c-45b5-8724-598668eabf92"
      },
      "outputs": [
        {
          "output_type": "stream",
          "name": "stdout",
          "text": [
            "+--------------------+-------+\n",
            "|               title|is_null|\n",
            "+--------------------+-------+\n",
            "|           Toy Story|  false|\n",
            "|             Jumanji|  false|\n",
            "|    Grumpier Old Men|  false|\n",
            "|   Waiting to Exhale|  false|\n",
            "|Father of the Bri...|  false|\n",
            "|                Heat|  false|\n",
            "|             Sabrina|  false|\n",
            "|        Tom and Huck|  false|\n",
            "|        Sudden Death|  false|\n",
            "|           GoldenEye|  false|\n",
            "|American Presiden...|  false|\n",
            "|Dracula: Dead and...|  false|\n",
            "|               Balto|  false|\n",
            "|               Nixon|  false|\n",
            "|    Cutthroat Island|  false|\n",
            "|              Casino|  false|\n",
            "|Sense and Sensibi...|  false|\n",
            "|          Four Rooms|  false|\n",
            "|Ace Ventura: When...|  false|\n",
            "|         Money Train|  false|\n",
            "+--------------------+-------+\n",
            "only showing top 20 rows\n",
            "\n",
            "+--------------------+-------+\n",
            "|              genres|is_null|\n",
            "+--------------------+-------+\n",
            "|Adventure|Animati...|  false|\n",
            "|Adventure|Childre...|  false|\n",
            "|      Comedy|Romance|  false|\n",
            "|Comedy|Drama|Romance|  false|\n",
            "|              Comedy|  false|\n",
            "|Action|Crime|Thri...|  false|\n",
            "|      Comedy|Romance|  false|\n",
            "|  Adventure|Children|  false|\n",
            "|              Action|  false|\n",
            "|Action|Adventure|...|  false|\n",
            "|Comedy|Drama|Romance|  false|\n",
            "|       Comedy|Horror|  false|\n",
            "|Adventure|Animati...|  false|\n",
            "|               Drama|  false|\n",
            "|Action|Adventure|...|  false|\n",
            "|         Crime|Drama|  false|\n",
            "|       Drama|Romance|  false|\n",
            "|              Comedy|  false|\n",
            "|              Comedy|  false|\n",
            "|Action|Comedy|Cri...|  false|\n",
            "+--------------------+-------+\n",
            "only showing top 20 rows\n",
            "\n"
          ]
        }
      ],
      "source": [
        "null_check = movie_names_data.select(\"title\", col(\"title\").isNull().alias(\"is_null\")).show()\n",
        "null_check = movie_names_data.select(\"genres\", col(\"genres\").isNull().alias(\"is_null\")).show()\n"
      ]
    },
    {
      "cell_type": "code",
      "execution_count": null,
      "metadata": {
        "id": "uKuE77zPpPmd",
        "colab": {
          "base_uri": "https://localhost:8080/"
        },
        "outputId": "5205e335-e6dd-4371-836e-ac2887428df6"
      },
      "outputs": [
        {
          "output_type": "stream",
          "name": "stdout",
          "text": [
            "+-------+-----+------+\n",
            "|movieId|title|genres|\n",
            "+-------+-----+------+\n",
            "|      0|    0|     0|\n",
            "+-------+-----+------+\n",
            "\n"
          ]
        }
      ],
      "source": [
        "from pyspark.sql.functions import col, sum\n",
        "\n",
        "# Calculate the count of null values for each column\n",
        "null_counts = movie_names_data.select([sum(col(column).isNull().cast(\"int\")).alias(column) for column in movie_names_data.columns])\n",
        "\n",
        "# Show the result\n",
        "null_counts.show()\n"
      ]
    },
    {
      "cell_type": "code",
      "execution_count": null,
      "metadata": {
        "id": "Z5IqXI3hkEoH"
      },
      "outputs": [],
      "source": [
        "import matplotlib.pyplot as plt\n",
        "from pyspark.sql.functions import avg\n",
        "\n",
        "\n",
        "\n",
        "# Join the average ratings with movie names based on the movieId column\n",
        "combined_data = data.join(movie_names_data, on=\"movieId\")\n",
        "\n"
      ]
    },
    {
      "cell_type": "code",
      "execution_count": null,
      "metadata": {
        "colab": {
          "base_uri": "https://localhost:8080/"
        },
        "id": "oAUA8o8HpsQM",
        "outputId": "a16f2054-a525-4cba-fa22-3fb2bd22bf5b"
      },
      "outputs": [
        {
          "output_type": "stream",
          "name": "stdout",
          "text": [
            "+-------+------+------+---------+-----+------+\n",
            "|movieId|userId|rating|timestamp|title|genres|\n",
            "+-------+------+------+---------+-----+------+\n",
            "|      0|     0|     0|        0|    0|     0|\n",
            "+-------+------+------+---------+-----+------+\n",
            "\n",
            "+-------+------+------+----------+--------------------+--------------------+\n",
            "|movieId|userId|rating| timestamp|               title|              genres|\n",
            "+-------+------+------+----------+--------------------+--------------------+\n",
            "|    296|     1|   5.0|1147880044|        Pulp Fiction|Comedy|Crime|Dram...|\n",
            "|    306|     1|   3.5|1147868817|   Three Colors: Red|               Drama|\n",
            "|    307|     1|   5.0|1147868828|  Three Colors: Blue|               Drama|\n",
            "|    665|     1|   5.0|1147878820|         Underground|    Comedy|Drama|War|\n",
            "|    899|     1|   3.5|1147868510| Singin' in the Rain|Comedy|Musical|Ro...|\n",
            "|   1088|     1|   4.0|1147868495|       Dirty Dancing|Drama|Musical|Rom...|\n",
            "|   1175|     1|   3.5|1147868826|        Delicatessen|Comedy|Drama|Romance|\n",
            "|   1217|     1|   3.5|1147878326|                 Ran|           Drama|War|\n",
            "|   1237|     1|   5.0|1147868839|   Seventh Seal, The|               Drama|\n",
            "|   1250|     1|   4.0|1147868414|Bridge on the Riv...| Adventure|Drama|War|\n",
            "|   1260|     1|   3.5|1147877857|                   M|Crime|Film-Noir|T...|\n",
            "|   1653|     1|   4.0|1147868097|             Gattaca|Drama|Sci-Fi|Thri...|\n",
            "|   2011|     1|   2.5|1147868079|Back to the Futur...|Adventure|Comedy|...|\n",
            "|   2012|     1|   2.5|1147868068|Back to the Futur...|Adventure|Comedy|...|\n",
            "|   2068|     1|   2.5|1147869044| Fanny and Alexander|Drama|Fantasy|Mys...|\n",
            "|   2161|     1|   3.5|1147868609|NeverEnding Story...|Adventure|Childre...|\n",
            "|   2351|     1|   4.5|1147877957|   Nights of Cabiria|               Drama|\n",
            "|   2573|     1|   4.0|1147878923|               Tango|       Drama|Musical|\n",
            "|   2632|     1|   5.0|1147878248|Saragossa Manuscr...|Adventure|Drama|M...|\n",
            "|   2692|     1|   5.0|1147869100|        Run Lola Run|        Action|Crime|\n",
            "+-------+------+------+----------+--------------------+--------------------+\n",
            "only showing top 20 rows\n",
            "\n"
          ]
        }
      ],
      "source": [
        "null_counts = combined_data.select([sum(col(column).isNull().cast(\"int\")).alias(column) for column in combined_data.columns])\n",
        "\n",
        "# Show the result\n",
        "null_counts.show()\n",
        "combined_data.show()"
      ]
    },
    {
      "cell_type": "code",
      "execution_count": null,
      "metadata": {
        "colab": {
          "base_uri": "https://localhost:8080/"
        },
        "id": "-CeHTcSHkL1f",
        "outputId": "835f9226-61b5-450f-a813-103c0bacdb0c"
      },
      "outputs": [
        {
          "output_type": "stream",
          "name": "stdout",
          "text": [
            "Number of rows in train_data: 298007\n",
            "Number of rows in test_data: 74355\n"
          ]
        }
      ],
      "source": [
        "#the randomSplit()** method is used to split the DataFrame into training and testing sets.\n",
        "#The first argument [0.8, 0.2] specifies the relative sizes of the training and testing sets.\n",
        "#Here, 80% of the data is used for training, and 20% is used for testing. The seed parameter ensures reproducibility of the random split.\n",
        "# Split the data into training and testing sets\n",
        "train_data, test_data = combined_data.randomSplit([0.8, 0.2], seed=123)\n",
        "\n",
        "# Show the number of rows in the training and testing sets\n",
        "print(\"Number of rows in train_data:\", train_data.count())\n",
        "print(\"Number of rows in test_data:\", test_data.count())"
      ]
    },
    {
      "cell_type": "code",
      "execution_count": null,
      "metadata": {
        "id": "y3iep1wgkXMb"
      },
      "outputs": [],
      "source": [
        "from pyspark.ml.recommendation import ALS\n",
        "\n",
        "# Build the recommendation model using ALS on the training data\n",
        "als = ALS(maxIter=15, regParam=0.01, userCol=\"userId\" ,itemCol=\"movieId\", ratingCol=\"rating\")\n",
        "#Fit the Model on Item-Based Data\n",
        "model = als.fit(train_data)"
      ]
    },
    {
      "cell_type": "code",
      "execution_count": null,
      "metadata": {
        "id": "RH8PaUwgkej5",
        "colab": {
          "base_uri": "https://localhost:8080/"
        },
        "outputId": "4b26fbaa-3ecb-4d3a-bd44-115b69e4997c"
      },
      "outputs": [
        {
          "output_type": "stream",
          "name": "stdout",
          "text": [
            "+-------+------+------+----------+---------+--------------------+----------+\n",
            "|movieId|userId|rating| timestamp|    title|              genres|prediction|\n",
            "+-------+------+------+----------+---------+--------------------+----------+\n",
            "|      1|     4|   3.0|1573944252|Toy Story|Adventure|Animati...| 3.2754016|\n",
            "|      1|    12|   4.0|1167582601|Toy Story|Adventure|Animati...| 3.8952022|\n",
            "|      1|    47|   2.0| 855093790|Toy Story|Adventure|Animati...|   3.39954|\n",
            "|      1|    50|   4.0|1402505313|Toy Story|Adventure|Animati...| 4.0608797|\n",
            "|      1|    66|   3.0|1138600903|Toy Story|Adventure|Animati...|  4.164846|\n",
            "|      1|    77|   4.0| 832021510|Toy Story|Adventure|Animati...| 3.6073601|\n",
            "|      1|    96|   5.0|1443313447|Toy Story|Adventure|Animati...| 3.4178615|\n",
            "|      1|    98|   5.0|1450047199|Toy Story|Adventure|Animati...| 4.4976377|\n",
            "|      1|   111|   4.5|1167221538|Toy Story|Adventure|Animati...|  5.076212|\n",
            "|      1|   112|   3.0| 864074073|Toy Story|Adventure|Animati...| 3.0467987|\n",
            "|      1|   120|   5.0| 956264593|Toy Story|Adventure|Animati...| 4.6259356|\n",
            "|      1|   130|   3.0| 888457594|Toy Story|Adventure|Animati...| 3.3213606|\n",
            "|      1|   143|   5.0| 860612140|Toy Story|Adventure|Animati...|  4.433482|\n",
            "|      1|   166|   4.0| 942014736|Toy Story|Adventure|Animati...| 4.3692117|\n",
            "|      1|   197|   3.5|1144647633|Toy Story|Adventure|Animati...|  4.262004|\n",
            "|      1|   217|   4.5|1110226362|Toy Story|Adventure|Animati...|  4.122435|\n",
            "|      1|   259|   5.0|1021043082|Toy Story|Adventure|Animati...|  4.590688|\n",
            "|      1|   279|   2.0|1207781799|Toy Story|Adventure|Animati...|  4.563508|\n",
            "|      1|   298|   5.0| 855588208|Toy Story|Adventure|Animati...| 4.7598042|\n",
            "|      1|   329|   5.0| 835707792|Toy Story|Adventure|Animati...| 3.2700567|\n",
            "+-------+------+------+----------+---------+--------------------+----------+\n",
            "only showing top 20 rows\n",
            "\n"
          ]
        }
      ],
      "source": [
        "# Make predictions on the test data using the trained model\n",
        "predictions = model.transform(test_data)\n",
        "\n",
        "# Show the predictions, including original columns and the \"prediction\" column\n",
        "predictions.show()"
      ]
    },
    {
      "cell_type": "code",
      "execution_count": null,
      "metadata": {
        "id": "gO6qLV7nuViU",
        "colab": {
          "base_uri": "https://localhost:8080/"
        },
        "outputId": "9137cbc9-0456-439c-8b9b-f1bc2b6dc000"
      },
      "outputs": [
        {
          "output_type": "stream",
          "name": "stdout",
          "text": [
            "MAE (Test) = 0.6589723933762238\n"
          ]
        }
      ],
      "source": [
        "from pyspark.ml.evaluation import RegressionEvaluator\n",
        "als = ALS(\n",
        "          rank=30,\n",
        "          maxIter=4,\n",
        "          regParam=0.1,\n",
        "          userCol='userId',\n",
        "          itemCol='movieId',\n",
        "          ratingCol='rating',\n",
        "          coldStartStrategy='drop',\n",
        "          implicitPrefs=False\n",
        "         )\n",
        "model = als.fit(train_data)\n",
        "\n",
        "predictions = model.transform(test_data)\n",
        "evaluator = RegressionEvaluator(metricName='mae', labelCol='rating',\n",
        "                                predictionCol='prediction')\n",
        "\n",
        "mae = evaluator.evaluate(predictions)\n",
        "print(f'MAE (Test) = {mae}')"
      ]
    },
    {
      "cell_type": "code",
      "execution_count": null,
      "metadata": {
        "id": "cOW9xLvt_UIy",
        "colab": {
          "base_uri": "https://localhost:8080/"
        },
        "outputId": "858f44d0-49ce-4d05-8cc8-3727f73ec628"
      },
      "outputs": [
        {
          "output_type": "stream",
          "name": "stdout",
          "text": [
            "Root-mean-square error = 0.8476244537717983\n"
          ]
        }
      ],
      "source": [
        "evaluator = RegressionEvaluator(metricName=\"rmse\", labelCol=\"rating\",predictionCol=\"prediction\")\n",
        "rmse = evaluator.evaluate(predictions)\n",
        "print(\"Root-mean-square error = \" + str(rmse))"
      ]
    },
    {
      "cell_type": "code",
      "execution_count": null,
      "metadata": {
        "id": "yEKVvItRBeuO"
      },
      "outputs": [],
      "source": [
        "single_user = test_data.filter(test_data['userId']==12).select(['movieId','userId'])"
      ]
    },
    {
      "cell_type": "code",
      "execution_count": null,
      "metadata": {
        "id": "zEkHTutsAYew",
        "colab": {
          "base_uri": "https://localhost:8080/"
        },
        "outputId": "8d633c12-2129-44c8-e1b9-dba8fbfe14bf"
      },
      "outputs": [
        {
          "output_type": "stream",
          "name": "stdout",
          "text": [
            "+-------+------+\n",
            "|movieId|userId|\n",
            "+-------+------+\n",
            "|      1|    12|\n",
            "|     10|    12|\n",
            "|     16|    12|\n",
            "|     25|    12|\n",
            "|     29|    12|\n",
            "|     31|    12|\n",
            "|     39|    12|\n",
            "|    160|    12|\n",
            "|    168|    12|\n",
            "|    185|    12|\n",
            "|    231|    12|\n",
            "|    235|    12|\n",
            "|    260|    12|\n",
            "|    293|    12|\n",
            "|    319|    12|\n",
            "|    329|    12|\n",
            "|    343|    12|\n",
            "|    413|    12|\n",
            "|    435|    12|\n",
            "|    489|    12|\n",
            "+-------+------+\n",
            "only showing top 20 rows\n",
            "\n"
          ]
        }
      ],
      "source": [
        "single_user.show()"
      ]
    },
    {
      "cell_type": "code",
      "execution_count": null,
      "metadata": {
        "id": "stV4uOthh9hp",
        "colab": {
          "base_uri": "https://localhost:8080/"
        },
        "outputId": "ef702c86-3e92-41f9-89ae-5ae6632482f0"
      },
      "outputs": [
        {
          "output_type": "stream",
          "name": "stdout",
          "text": [
            "MAE (Test) = 0.6589723933762238\n"
          ]
        }
      ],
      "source": [
        "from pyspark.ml.recommendation import ALS\n",
        "from pyspark.ml.evaluation import RegressionEvaluator\n",
        "from pyspark.ml import Pipeline\n",
        "from pyspark.sql import SparkSession\n",
        "\n",
        "\n",
        "# Create an ALS model\n",
        "als = ALS(\n",
        "    rank=30,\n",
        "    maxIter=4,\n",
        "    regParam=0.1,\n",
        "    userCol='userId',\n",
        "    itemCol='movieId',\n",
        "    ratingCol='rating',\n",
        "    coldStartStrategy='drop',\n",
        "    implicitPrefs=False\n",
        ")\n",
        "\n",
        "# Create a RegressionEvaluator\n",
        "evaluator = RegressionEvaluator(metricName='mae', labelCol='rating', predictionCol='prediction')\n",
        "\n",
        "# Define a pipeline\n",
        "pipeline = Pipeline(stages=[als])\n",
        "\n",
        "# Fit the model in the pipeline on the training data\n",
        "model = pipeline.fit(train_data)\n",
        "\n",
        "# Make predictions on the test data\n",
        "predictions = model.transform(test_data)\n",
        "\n",
        "# Evaluate the model using the RegressionEvaluator\n",
        "mae = evaluator.evaluate(predictions)\n",
        "\n",
        "print(f'MAE (Test) = {mae}')\n",
        "\n"
      ]
    },
    {
      "cell_type": "code",
      "execution_count": null,
      "metadata": {
        "id": "XpOdqivx5bDn",
        "colab": {
          "base_uri": "https://localhost:8080/"
        },
        "outputId": "13d2ad0b-4596-4019-f264-43ef38a24701"
      },
      "outputs": [
        {
          "output_type": "stream",
          "name": "stdout",
          "text": [
            "**Best Model**\n",
            "Rank:  ALSModel: uid=ALS_a91cf54f1850, rank=10\n",
            " MaxIter:  15\n",
            " RegParam: ALS_a91cf54f1850__regParam\n"
          ]
        }
      ],
      "source": [
        "from pyspark.ml.tuning import CrossValidator, ParamGridBuilder\n",
        "\n",
        "# Define the ALS model\n",
        "als = ALS(\n",
        "    userCol='userId',\n",
        "    itemCol='movieId',\n",
        "    ratingCol='rating',\n",
        "    coldStartStrategy='drop',\n",
        "    implicitPrefs=False\n",
        ")\n",
        "\n",
        "# Define a parameter grid for hyperparameter tuning\n",
        "paramGrid = (ParamGridBuilder()\n",
        "             .addGrid(als.regParam, [0.01])\n",
        "             .addGrid(als.rank, [10])\n",
        "             .addGrid(als.maxIter, [15])\n",
        "             .build())\n",
        "\n",
        "# Create a RegressionEvaluator\n",
        "evaluator = RegressionEvaluator(metricName='mae', labelCol='rating', predictionCol='prediction')\n",
        "\n",
        "# Create a cross-validator\n",
        "crossval = CrossValidator(\n",
        "    estimator=als,\n",
        "    estimatorParamMaps=paramGrid,\n",
        "    evaluator=evaluator,\n",
        "    numFolds=5\n",
        ")\n",
        "\n",
        "# Fit the model with hyperparameter tuning on the training data\n",
        "cvModel = crossval.fit(train_data)\n",
        "\n",
        "# Get the best model from cross-validation\n",
        "best_model = cvModel.bestModel\n",
        "\n",
        "# Make predictions on the test data using the best model\n",
        "predictions = best_model.transform(test_data)\n",
        "\n",
        "# Evaluate the model using the RegressionEvaluator\n",
        "mae = evaluator.evaluate(predictions)\n",
        "\n",
        "print (\"**Best Model**\")\n",
        "print (\"Rank: \", best_model)\n",
        "print (\" MaxIter: \", str(best_model._java_obj.parent().getMaxIter()))\n",
        "print (\" RegParam:\",  best_model._java_obj.parent().regParam())\n"
      ]
    },
    {
      "cell_type": "code",
      "source": [
        "#Generate predictions and evaluate using RMSE\n",
        "predictions=best_model.transform(test_data)\n",
        "rmse = evaluator.evaluate(predictions)"
      ],
      "metadata": {
        "id": "yFjjZH4-crbn"
      },
      "execution_count": null,
      "outputs": []
    },
    {
      "cell_type": "code",
      "source": [
        "#Print RMSE\n",
        "print (\"RMSE = \"+str(rmse))"
      ],
      "metadata": {
        "colab": {
          "base_uri": "https://localhost:8080/"
        },
        "id": "IDtKoJH5csQ8",
        "outputId": "13c2ed7e-c992-4fdf-ea07-b659f416af90"
      },
      "execution_count": null,
      "outputs": [
        {
          "output_type": "stream",
          "name": "stdout",
          "text": [
            "RMSE = 0.7187118252467011\n"
          ]
        }
      ]
    },
    {
      "cell_type": "code",
      "source": [
        "movie_recommendation = best_model.recommendForAllUsers(10)\n",
        "movie_recommendation.show()"
      ],
      "metadata": {
        "colab": {
          "base_uri": "https://localhost:8080/"
        },
        "id": "iMqioscTdlfE",
        "outputId": "51ecdd9d-e2e4-4af4-cdeb-7e46216e27fe"
      },
      "execution_count": null,
      "outputs": [
        {
          "output_type": "stream",
          "name": "stdout",
          "text": [
            "+------+--------------------+\n",
            "|userId|     recommendations|\n",
            "+------+--------------------+\n",
            "|     1|[{180985, 9.27125...|\n",
            "|     3|[{668, 5.528395},...|\n",
            "|     5|[{3569, 6.920839}...|\n",
            "|     6|[{117109, 6.66919...|\n",
            "|     9|[{1475, 8.8236685...|\n",
            "|    12|[{7139, 6.199474}...|\n",
            "|    13|[{6783, 6.002256}...|\n",
            "|    15|[{2570, 7.78936},...|\n",
            "|    16|[{1809, 8.046873}...|\n",
            "|    17|[{2275, 11.046055...|\n",
            "|    19|[{33817, 6.203159...|\n",
            "|    20|[{62511, 7.454759...|\n",
            "|    22|[{2337, 12.541262...|\n",
            "|    26|[{4234, 7.981208}...|\n",
            "|    27|[{135137, 8.74462...|\n",
            "|    28|[{2589, 7.5457616...|\n",
            "|    31|[{179085, 4.34892...|\n",
            "|    34|[{117109, 7.34928...|\n",
            "|    35|[{179085, 6.86652...|\n",
            "|    37|[{1913, 7.728309}...|\n",
            "+------+--------------------+\n",
            "only showing top 20 rows\n",
            "\n"
          ]
        }
      ]
    },
    {
      "cell_type": "code",
      "source": [
        "recommendations = best_model.transform(single_user)\n",
        "userRecommendations= recommendations.orderBy('prediction',ascending=False)\n",
        "userRecommendations.show()"
      ],
      "metadata": {
        "colab": {
          "base_uri": "https://localhost:8080/"
        },
        "id": "1cpyjp4ldlv8",
        "outputId": "7f97339c-ad34-42f4-f3f3-2718eab21b4f"
      },
      "execution_count": null,
      "outputs": [
        {
          "output_type": "stream",
          "name": "stdout",
          "text": [
            "+-------+------+----------+\n",
            "|movieId|userId|prediction|\n",
            "+-------+------+----------+\n",
            "|   8951|    12|  5.216053|\n",
            "|  63876|    12| 4.9161263|\n",
            "|    858|    12|  4.733227|\n",
            "|  40870|    12| 4.6417127|\n",
            "|   3435|    12| 4.5486298|\n",
            "|   1221|    12| 4.5133395|\n",
            "|   5339|    12| 4.4996204|\n",
            "|    260|    12|  4.498723|\n",
            "|  50068|    12| 4.4418745|\n",
            "|   4993|    12|  4.440641|\n",
            "|   1230|    12| 4.4205956|\n",
            "|    912|    12| 4.4042926|\n",
            "|   6711|    12| 4.3622675|\n",
            "|   1208|    12| 4.3530936|\n",
            "|  44555|    12| 4.2455835|\n",
            "|    551|    12| 4.2203355|\n",
            "|   1212|    12|  4.216413|\n",
            "|   2997|    12| 4.1889677|\n",
            "|   1242|    12| 4.1619616|\n",
            "|   6385|    12| 4.1511345|\n",
            "+-------+------+----------+\n",
            "only showing top 20 rows\n",
            "\n"
          ]
        }
      ]
    },
    {
      "cell_type": "code",
      "source": [
        "import pandas as pd\n",
        "movie_recommendation = movie_recommendation.toPandas()"
      ],
      "metadata": {
        "id": "KPl0qN62h9NT"
      },
      "execution_count": null,
      "outputs": []
    },
    {
      "cell_type": "code",
      "source": [
        "user_list = []\n",
        "recommendations = []\n",
        "\n",
        "for i in range(len(movie_recommendation)):\n",
        "  user_list.append(movie_recommendation.iloc[i,0])\n",
        "  user_recommendations = \"\"\n",
        "\n",
        "  #Get item IDs from the recommendations\n",
        "  for item in movie_recommendation.iloc[i,1]:\n",
        "     user_recommendations = user_recommendations + \", \" + str(item.asDict()[\"movieId\"])\n",
        "\n",
        "  #Append the item IDs to recommendations list\n",
        "  recommendations.append(user_recommendations[2:])\n",
        "\n",
        "#Convert results into a dataframe\n",
        "recommendations_df = pd.DataFrame(data = zip(user_list, recommendations), columns=[\"user\", \"MovieID\"])\n",
        "\n"
      ],
      "metadata": {
        "id": "IdZFt9hhibXc"
      },
      "execution_count": null,
      "outputs": []
    },
    {
      "cell_type": "code",
      "source": [
        "#Check the users and the top 10 movie recommendations for the first 10 users\n",
        "recommendations_df.head(10)"
      ],
      "metadata": {
        "colab": {
          "base_uri": "https://localhost:8080/",
          "height": 363
        },
        "id": "7xyuoMznilVU",
        "outputId": "ccfb9b7d-36e2-482f-bb81-7a9c6abf7047"
      },
      "execution_count": null,
      "outputs": [
        {
          "output_type": "execute_result",
          "data": {
            "text/plain": [
              "   user                                            MovieID\n",
              "0     1  180985, 45028, 119, 118930, 2769, 3773, 961, 8...\n",
              "1     3  668, 4783, 171495, 764, 3599, 154890, 127180, ...\n",
              "2     5  3569, 52042, 451, 2925, 1503, 2769, 56607, 564...\n",
              "3     6  117109, 4066, 764, 6286, 198185, 6254, 3163, 1...\n",
              "4     9  1475, 3920, 2769, 7193, 52975, 1226, 179085, 5...\n",
              "5    12  7139, 2589, 8327, 4305, 156387, 26578, 443, 48...\n",
              "6    13  6783, 118930, 764, 7013, 2769, 105250, 48165, ...\n",
              "7    15  2570, 47491, 1173, 1306, 7767, 2275, 2239, 230...\n",
              "8    16  1809, 8951, 3342, 3773, 180985, 88235, 156387,...\n",
              "9    17  2275, 1503, 6184, 7453, 4699, 44193, 4959, 700..."
            ],
            "text/html": [
              "\n",
              "  <div id=\"df-2bf87bc0-f676-476d-923d-d1dd0f050a44\" class=\"colab-df-container\">\n",
              "    <div>\n",
              "<style scoped>\n",
              "    .dataframe tbody tr th:only-of-type {\n",
              "        vertical-align: middle;\n",
              "    }\n",
              "\n",
              "    .dataframe tbody tr th {\n",
              "        vertical-align: top;\n",
              "    }\n",
              "\n",
              "    .dataframe thead th {\n",
              "        text-align: right;\n",
              "    }\n",
              "</style>\n",
              "<table border=\"1\" class=\"dataframe\">\n",
              "  <thead>\n",
              "    <tr style=\"text-align: right;\">\n",
              "      <th></th>\n",
              "      <th>user</th>\n",
              "      <th>MovieID</th>\n",
              "    </tr>\n",
              "  </thead>\n",
              "  <tbody>\n",
              "    <tr>\n",
              "      <th>0</th>\n",
              "      <td>1</td>\n",
              "      <td>180985, 45028, 119, 118930, 2769, 3773, 961, 8...</td>\n",
              "    </tr>\n",
              "    <tr>\n",
              "      <th>1</th>\n",
              "      <td>3</td>\n",
              "      <td>668, 4783, 171495, 764, 3599, 154890, 127180, ...</td>\n",
              "    </tr>\n",
              "    <tr>\n",
              "      <th>2</th>\n",
              "      <td>5</td>\n",
              "      <td>3569, 52042, 451, 2925, 1503, 2769, 56607, 564...</td>\n",
              "    </tr>\n",
              "    <tr>\n",
              "      <th>3</th>\n",
              "      <td>6</td>\n",
              "      <td>117109, 4066, 764, 6286, 198185, 6254, 3163, 1...</td>\n",
              "    </tr>\n",
              "    <tr>\n",
              "      <th>4</th>\n",
              "      <td>9</td>\n",
              "      <td>1475, 3920, 2769, 7193, 52975, 1226, 179085, 5...</td>\n",
              "    </tr>\n",
              "    <tr>\n",
              "      <th>5</th>\n",
              "      <td>12</td>\n",
              "      <td>7139, 2589, 8327, 4305, 156387, 26578, 443, 48...</td>\n",
              "    </tr>\n",
              "    <tr>\n",
              "      <th>6</th>\n",
              "      <td>13</td>\n",
              "      <td>6783, 118930, 764, 7013, 2769, 105250, 48165, ...</td>\n",
              "    </tr>\n",
              "    <tr>\n",
              "      <th>7</th>\n",
              "      <td>15</td>\n",
              "      <td>2570, 47491, 1173, 1306, 7767, 2275, 2239, 230...</td>\n",
              "    </tr>\n",
              "    <tr>\n",
              "      <th>8</th>\n",
              "      <td>16</td>\n",
              "      <td>1809, 8951, 3342, 3773, 180985, 88235, 156387,...</td>\n",
              "    </tr>\n",
              "    <tr>\n",
              "      <th>9</th>\n",
              "      <td>17</td>\n",
              "      <td>2275, 1503, 6184, 7453, 4699, 44193, 4959, 700...</td>\n",
              "    </tr>\n",
              "  </tbody>\n",
              "</table>\n",
              "</div>\n",
              "    <div class=\"colab-df-buttons\">\n",
              "\n",
              "  <div class=\"colab-df-container\">\n",
              "    <button class=\"colab-df-convert\" onclick=\"convertToInteractive('df-2bf87bc0-f676-476d-923d-d1dd0f050a44')\"\n",
              "            title=\"Convert this dataframe to an interactive table.\"\n",
              "            style=\"display:none;\">\n",
              "\n",
              "  <svg xmlns=\"http://www.w3.org/2000/svg\" height=\"24px\" viewBox=\"0 -960 960 960\">\n",
              "    <path d=\"M120-120v-720h720v720H120Zm60-500h600v-160H180v160Zm220 220h160v-160H400v160Zm0 220h160v-160H400v160ZM180-400h160v-160H180v160Zm440 0h160v-160H620v160ZM180-180h160v-160H180v160Zm440 0h160v-160H620v160Z\"/>\n",
              "  </svg>\n",
              "    </button>\n",
              "\n",
              "  <style>\n",
              "    .colab-df-container {\n",
              "      display:flex;\n",
              "      gap: 12px;\n",
              "    }\n",
              "\n",
              "    .colab-df-convert {\n",
              "      background-color: #E8F0FE;\n",
              "      border: none;\n",
              "      border-radius: 50%;\n",
              "      cursor: pointer;\n",
              "      display: none;\n",
              "      fill: #1967D2;\n",
              "      height: 32px;\n",
              "      padding: 0 0 0 0;\n",
              "      width: 32px;\n",
              "    }\n",
              "\n",
              "    .colab-df-convert:hover {\n",
              "      background-color: #E2EBFA;\n",
              "      box-shadow: 0px 1px 2px rgba(60, 64, 67, 0.3), 0px 1px 3px 1px rgba(60, 64, 67, 0.15);\n",
              "      fill: #174EA6;\n",
              "    }\n",
              "\n",
              "    .colab-df-buttons div {\n",
              "      margin-bottom: 4px;\n",
              "    }\n",
              "\n",
              "    [theme=dark] .colab-df-convert {\n",
              "      background-color: #3B4455;\n",
              "      fill: #D2E3FC;\n",
              "    }\n",
              "\n",
              "    [theme=dark] .colab-df-convert:hover {\n",
              "      background-color: #434B5C;\n",
              "      box-shadow: 0px 1px 3px 1px rgba(0, 0, 0, 0.15);\n",
              "      filter: drop-shadow(0px 1px 2px rgba(0, 0, 0, 0.3));\n",
              "      fill: #FFFFFF;\n",
              "    }\n",
              "  </style>\n",
              "\n",
              "    <script>\n",
              "      const buttonEl =\n",
              "        document.querySelector('#df-2bf87bc0-f676-476d-923d-d1dd0f050a44 button.colab-df-convert');\n",
              "      buttonEl.style.display =\n",
              "        google.colab.kernel.accessAllowed ? 'block' : 'none';\n",
              "\n",
              "      async function convertToInteractive(key) {\n",
              "        const element = document.querySelector('#df-2bf87bc0-f676-476d-923d-d1dd0f050a44');\n",
              "        const dataTable =\n",
              "          await google.colab.kernel.invokeFunction('convertToInteractive',\n",
              "                                                    [key], {});\n",
              "        if (!dataTable) return;\n",
              "\n",
              "        const docLinkHtml = 'Like what you see? Visit the ' +\n",
              "          '<a target=\"_blank\" href=https://colab.research.google.com/notebooks/data_table.ipynb>data table notebook</a>'\n",
              "          + ' to learn more about interactive tables.';\n",
              "        element.innerHTML = '';\n",
              "        dataTable['output_type'] = 'display_data';\n",
              "        await google.colab.output.renderOutput(dataTable, element);\n",
              "        const docLink = document.createElement('div');\n",
              "        docLink.innerHTML = docLinkHtml;\n",
              "        element.appendChild(docLink);\n",
              "      }\n",
              "    </script>\n",
              "  </div>\n",
              "\n",
              "\n",
              "<div id=\"df-40a476c1-2fab-46a0-af7e-e40b620d652a\">\n",
              "  <button class=\"colab-df-quickchart\" onclick=\"quickchart('df-40a476c1-2fab-46a0-af7e-e40b620d652a')\"\n",
              "            title=\"Suggest charts.\"\n",
              "            style=\"display:none;\">\n",
              "\n",
              "<svg xmlns=\"http://www.w3.org/2000/svg\" height=\"24px\"viewBox=\"0 0 24 24\"\n",
              "     width=\"24px\">\n",
              "    <g>\n",
              "        <path d=\"M19 3H5c-1.1 0-2 .9-2 2v14c0 1.1.9 2 2 2h14c1.1 0 2-.9 2-2V5c0-1.1-.9-2-2-2zM9 17H7v-7h2v7zm4 0h-2V7h2v10zm4 0h-2v-4h2v4z\"/>\n",
              "    </g>\n",
              "</svg>\n",
              "  </button>\n",
              "\n",
              "<style>\n",
              "  .colab-df-quickchart {\n",
              "      --bg-color: #E8F0FE;\n",
              "      --fill-color: #1967D2;\n",
              "      --hover-bg-color: #E2EBFA;\n",
              "      --hover-fill-color: #174EA6;\n",
              "      --disabled-fill-color: #AAA;\n",
              "      --disabled-bg-color: #DDD;\n",
              "  }\n",
              "\n",
              "  [theme=dark] .colab-df-quickchart {\n",
              "      --bg-color: #3B4455;\n",
              "      --fill-color: #D2E3FC;\n",
              "      --hover-bg-color: #434B5C;\n",
              "      --hover-fill-color: #FFFFFF;\n",
              "      --disabled-bg-color: #3B4455;\n",
              "      --disabled-fill-color: #666;\n",
              "  }\n",
              "\n",
              "  .colab-df-quickchart {\n",
              "    background-color: var(--bg-color);\n",
              "    border: none;\n",
              "    border-radius: 50%;\n",
              "    cursor: pointer;\n",
              "    display: none;\n",
              "    fill: var(--fill-color);\n",
              "    height: 32px;\n",
              "    padding: 0;\n",
              "    width: 32px;\n",
              "  }\n",
              "\n",
              "  .colab-df-quickchart:hover {\n",
              "    background-color: var(--hover-bg-color);\n",
              "    box-shadow: 0 1px 2px rgba(60, 64, 67, 0.3), 0 1px 3px 1px rgba(60, 64, 67, 0.15);\n",
              "    fill: var(--button-hover-fill-color);\n",
              "  }\n",
              "\n",
              "  .colab-df-quickchart-complete:disabled,\n",
              "  .colab-df-quickchart-complete:disabled:hover {\n",
              "    background-color: var(--disabled-bg-color);\n",
              "    fill: var(--disabled-fill-color);\n",
              "    box-shadow: none;\n",
              "  }\n",
              "\n",
              "  .colab-df-spinner {\n",
              "    border: 2px solid var(--fill-color);\n",
              "    border-color: transparent;\n",
              "    border-bottom-color: var(--fill-color);\n",
              "    animation:\n",
              "      spin 1s steps(1) infinite;\n",
              "  }\n",
              "\n",
              "  @keyframes spin {\n",
              "    0% {\n",
              "      border-color: transparent;\n",
              "      border-bottom-color: var(--fill-color);\n",
              "      border-left-color: var(--fill-color);\n",
              "    }\n",
              "    20% {\n",
              "      border-color: transparent;\n",
              "      border-left-color: var(--fill-color);\n",
              "      border-top-color: var(--fill-color);\n",
              "    }\n",
              "    30% {\n",
              "      border-color: transparent;\n",
              "      border-left-color: var(--fill-color);\n",
              "      border-top-color: var(--fill-color);\n",
              "      border-right-color: var(--fill-color);\n",
              "    }\n",
              "    40% {\n",
              "      border-color: transparent;\n",
              "      border-right-color: var(--fill-color);\n",
              "      border-top-color: var(--fill-color);\n",
              "    }\n",
              "    60% {\n",
              "      border-color: transparent;\n",
              "      border-right-color: var(--fill-color);\n",
              "    }\n",
              "    80% {\n",
              "      border-color: transparent;\n",
              "      border-right-color: var(--fill-color);\n",
              "      border-bottom-color: var(--fill-color);\n",
              "    }\n",
              "    90% {\n",
              "      border-color: transparent;\n",
              "      border-bottom-color: var(--fill-color);\n",
              "    }\n",
              "  }\n",
              "</style>\n",
              "\n",
              "  <script>\n",
              "    async function quickchart(key) {\n",
              "      const quickchartButtonEl =\n",
              "        document.querySelector('#' + key + ' button');\n",
              "      quickchartButtonEl.disabled = true;  // To prevent multiple clicks.\n",
              "      quickchartButtonEl.classList.add('colab-df-spinner');\n",
              "      try {\n",
              "        const charts = await google.colab.kernel.invokeFunction(\n",
              "            'suggestCharts', [key], {});\n",
              "      } catch (error) {\n",
              "        console.error('Error during call to suggestCharts:', error);\n",
              "      }\n",
              "      quickchartButtonEl.classList.remove('colab-df-spinner');\n",
              "      quickchartButtonEl.classList.add('colab-df-quickchart-complete');\n",
              "    }\n",
              "    (() => {\n",
              "      let quickchartButtonEl =\n",
              "        document.querySelector('#df-40a476c1-2fab-46a0-af7e-e40b620d652a button');\n",
              "      quickchartButtonEl.style.display =\n",
              "        google.colab.kernel.accessAllowed ? 'block' : 'none';\n",
              "    })();\n",
              "  </script>\n",
              "</div>\n",
              "    </div>\n",
              "  </div>\n"
            ]
          },
          "metadata": {},
          "execution_count": 85
        }
      ]
    },
    {
      "cell_type": "code",
      "source": [],
      "metadata": {
        "id": "a2ZhccEfqAjB"
      },
      "execution_count": null,
      "outputs": []
    }
  ],
  "metadata": {
    "colab": {
      "provenance": [],
      "gpuType": "T4"
    },
    "kernelspec": {
      "display_name": "Python 3",
      "name": "python3"
    },
    "language_info": {
      "name": "python"
    },
    "accelerator": "GPU"
  },
  "nbformat": 4,
  "nbformat_minor": 0
}